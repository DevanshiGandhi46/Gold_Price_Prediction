{
 "cells": [
  {
   "cell_type": "code",
   "execution_count": 1,
   "metadata": {},
   "outputs": [],
   "source": [
    "import pandas as pd\n",
    "import numpy as np\n",
    "import matplotlib.pyplot as plt\n",
    "import seaborn as sns\n",
    "from sklearn.model_selection import train_test_split\n",
    "from sklearn.ensemble import RandomForestRegressor\n",
    "from sklearn import metrics"
   ]
  },
  {
   "cell_type": "code",
   "execution_count": 2,
   "metadata": {},
   "outputs": [],
   "source": [
    "gd=pd.read_csv(\"gld_price_data.csv\")"
   ]
  },
  {
   "cell_type": "code",
   "execution_count": 3,
   "metadata": {},
   "outputs": [
    {
     "data": {
      "text/html": [
       "<div>\n",
       "<style scoped>\n",
       "    .dataframe tbody tr th:only-of-type {\n",
       "        vertical-align: middle;\n",
       "    }\n",
       "\n",
       "    .dataframe tbody tr th {\n",
       "        vertical-align: top;\n",
       "    }\n",
       "\n",
       "    .dataframe thead th {\n",
       "        text-align: right;\n",
       "    }\n",
       "</style>\n",
       "<table border=\"1\" class=\"dataframe\">\n",
       "  <thead>\n",
       "    <tr style=\"text-align: right;\">\n",
       "      <th></th>\n",
       "      <th>Date</th>\n",
       "      <th>SPX</th>\n",
       "      <th>GLD</th>\n",
       "      <th>USO</th>\n",
       "      <th>SLV</th>\n",
       "      <th>EUR/USD</th>\n",
       "    </tr>\n",
       "  </thead>\n",
       "  <tbody>\n",
       "    <tr>\n",
       "      <th>0</th>\n",
       "      <td>1/2/2008</td>\n",
       "      <td>1447.160034</td>\n",
       "      <td>84.860001</td>\n",
       "      <td>78.470001</td>\n",
       "      <td>15.180</td>\n",
       "      <td>1.471692</td>\n",
       "    </tr>\n",
       "    <tr>\n",
       "      <th>1</th>\n",
       "      <td>1/3/2008</td>\n",
       "      <td>1447.160034</td>\n",
       "      <td>85.570000</td>\n",
       "      <td>78.370003</td>\n",
       "      <td>15.285</td>\n",
       "      <td>1.474491</td>\n",
       "    </tr>\n",
       "    <tr>\n",
       "      <th>2</th>\n",
       "      <td>1/4/2008</td>\n",
       "      <td>1411.630005</td>\n",
       "      <td>85.129997</td>\n",
       "      <td>77.309998</td>\n",
       "      <td>15.167</td>\n",
       "      <td>1.475492</td>\n",
       "    </tr>\n",
       "    <tr>\n",
       "      <th>3</th>\n",
       "      <td>1/7/2008</td>\n",
       "      <td>1416.180054</td>\n",
       "      <td>84.769997</td>\n",
       "      <td>75.500000</td>\n",
       "      <td>15.053</td>\n",
       "      <td>1.468299</td>\n",
       "    </tr>\n",
       "    <tr>\n",
       "      <th>4</th>\n",
       "      <td>1/8/2008</td>\n",
       "      <td>1390.189941</td>\n",
       "      <td>86.779999</td>\n",
       "      <td>76.059998</td>\n",
       "      <td>15.590</td>\n",
       "      <td>1.557099</td>\n",
       "    </tr>\n",
       "  </tbody>\n",
       "</table>\n",
       "</div>"
      ],
      "text/plain": [
       "       Date          SPX        GLD        USO     SLV   EUR/USD\n",
       "0  1/2/2008  1447.160034  84.860001  78.470001  15.180  1.471692\n",
       "1  1/3/2008  1447.160034  85.570000  78.370003  15.285  1.474491\n",
       "2  1/4/2008  1411.630005  85.129997  77.309998  15.167  1.475492\n",
       "3  1/7/2008  1416.180054  84.769997  75.500000  15.053  1.468299\n",
       "4  1/8/2008  1390.189941  86.779999  76.059998  15.590  1.557099"
      ]
     },
     "execution_count": 3,
     "metadata": {},
     "output_type": "execute_result"
    }
   ],
   "source": [
    "gd.head()"
   ]
  },
  {
   "cell_type": "code",
   "execution_count": 4,
   "metadata": {},
   "outputs": [
    {
     "data": {
      "text/html": [
       "<div>\n",
       "<style scoped>\n",
       "    .dataframe tbody tr th:only-of-type {\n",
       "        vertical-align: middle;\n",
       "    }\n",
       "\n",
       "    .dataframe tbody tr th {\n",
       "        vertical-align: top;\n",
       "    }\n",
       "\n",
       "    .dataframe thead th {\n",
       "        text-align: right;\n",
       "    }\n",
       "</style>\n",
       "<table border=\"1\" class=\"dataframe\">\n",
       "  <thead>\n",
       "    <tr style=\"text-align: right;\">\n",
       "      <th></th>\n",
       "      <th>Date</th>\n",
       "      <th>SPX</th>\n",
       "      <th>GLD</th>\n",
       "      <th>USO</th>\n",
       "      <th>SLV</th>\n",
       "      <th>EUR/USD</th>\n",
       "    </tr>\n",
       "  </thead>\n",
       "  <tbody>\n",
       "    <tr>\n",
       "      <th>2285</th>\n",
       "      <td>5/8/2018</td>\n",
       "      <td>2671.919922</td>\n",
       "      <td>124.589996</td>\n",
       "      <td>14.0600</td>\n",
       "      <td>15.5100</td>\n",
       "      <td>1.186789</td>\n",
       "    </tr>\n",
       "    <tr>\n",
       "      <th>2286</th>\n",
       "      <td>5/9/2018</td>\n",
       "      <td>2697.790039</td>\n",
       "      <td>124.330002</td>\n",
       "      <td>14.3700</td>\n",
       "      <td>15.5300</td>\n",
       "      <td>1.184722</td>\n",
       "    </tr>\n",
       "    <tr>\n",
       "      <th>2287</th>\n",
       "      <td>5/10/2018</td>\n",
       "      <td>2723.070068</td>\n",
       "      <td>125.180000</td>\n",
       "      <td>14.4100</td>\n",
       "      <td>15.7400</td>\n",
       "      <td>1.191753</td>\n",
       "    </tr>\n",
       "    <tr>\n",
       "      <th>2288</th>\n",
       "      <td>5/14/2018</td>\n",
       "      <td>2730.129883</td>\n",
       "      <td>124.489998</td>\n",
       "      <td>14.3800</td>\n",
       "      <td>15.5600</td>\n",
       "      <td>1.193118</td>\n",
       "    </tr>\n",
       "    <tr>\n",
       "      <th>2289</th>\n",
       "      <td>5/16/2018</td>\n",
       "      <td>2725.780029</td>\n",
       "      <td>122.543800</td>\n",
       "      <td>14.4058</td>\n",
       "      <td>15.4542</td>\n",
       "      <td>1.182033</td>\n",
       "    </tr>\n",
       "  </tbody>\n",
       "</table>\n",
       "</div>"
      ],
      "text/plain": [
       "           Date          SPX         GLD      USO      SLV   EUR/USD\n",
       "2285   5/8/2018  2671.919922  124.589996  14.0600  15.5100  1.186789\n",
       "2286   5/9/2018  2697.790039  124.330002  14.3700  15.5300  1.184722\n",
       "2287  5/10/2018  2723.070068  125.180000  14.4100  15.7400  1.191753\n",
       "2288  5/14/2018  2730.129883  124.489998  14.3800  15.5600  1.193118\n",
       "2289  5/16/2018  2725.780029  122.543800  14.4058  15.4542  1.182033"
      ]
     },
     "execution_count": 4,
     "metadata": {},
     "output_type": "execute_result"
    }
   ],
   "source": [
    "gd.tail()"
   ]
  },
  {
   "cell_type": "code",
   "execution_count": 5,
   "metadata": {},
   "outputs": [
    {
     "data": {
      "text/plain": [
       "(2290, 6)"
      ]
     },
     "execution_count": 5,
     "metadata": {},
     "output_type": "execute_result"
    }
   ],
   "source": [
    "gd.shape"
   ]
  },
  {
   "cell_type": "code",
   "execution_count": 6,
   "metadata": {},
   "outputs": [
    {
     "data": {
      "text/plain": [
       "Date       0\n",
       "SPX        0\n",
       "GLD        0\n",
       "USO        0\n",
       "SLV        0\n",
       "EUR/USD    0\n",
       "dtype: int64"
      ]
     },
     "execution_count": 6,
     "metadata": {},
     "output_type": "execute_result"
    }
   ],
   "source": [
    "gd.isnull().sum()"
   ]
  },
  {
   "cell_type": "markdown",
   "metadata": {},
   "source": [
    "gd.describe()"
   ]
  },
  {
   "cell_type": "code",
   "execution_count": 8,
   "metadata": {},
   "outputs": [],
   "source": [
    "crn = gd.corr()"
   ]
  },
  {
   "cell_type": "code",
   "execution_count": 9,
   "metadata": {},
   "outputs": [
    {
     "data": {
      "text/plain": [
       "<AxesSubplot:>"
      ]
     },
     "execution_count": 9,
     "metadata": {},
     "output_type": "execute_result"
    },
    {
     "data": {
      "image/png": "[encoded data removed]",
      "text/plain": [
       "<Figure size 720x720 with 2 Axes>"
      ]
     },
     "metadata": {
      "needs_background": "light"
     },
     "output_type": "display_data"
    }
   ],
   "source": [
    "plt.figure(figsize=(10,10))\n",
    "sns.heatmap(crn,annot=True,fmt=\".1f\",cmap=\"RdPu\")"
   ]
  },
  {
   "cell_type": "code",
   "execution_count": 10,
   "metadata": {},
   "outputs": [
    {
     "name": "stdout",
     "output_type": "stream",
     "text": [
      "SPX        0.049345\n",
      "GLD        1.000000\n",
      "USO       -0.186360\n",
      "SLV        0.866632\n",
      "EUR/USD   -0.024375\n",
      "Name: GLD, dtype: float64\n"
     ]
    }
   ],
   "source": [
    "print(crn[\"GLD\"])"
   ]
  },
  {
   "cell_type": "raw",
   "metadata": {},
   "source": [
    "# Crn_value > 0 ==> Positive Correlation\n",
    "# Crn_value < 0 ==> Negative Correlation\n",
    "# Crn_value = 0 ==> No Correlation"
   ]
  },
  {
   "cell_type": "code",
   "execution_count": 11,
   "metadata": {},
   "outputs": [
    {
     "name": "stderr",
     "output_type": "stream",
     "text": [
      "C:\\Users\\Admin\\anaconda3\\lib\\site-packages\\seaborn\\distributions.py:2551: FutureWarning: `distplot` is a deprecated function and will be removed in a future version. Please adapt your code to use either `displot` (a figure-level function with similar flexibility) or `histplot` (an axes-level function for histograms).\n",
      "  warnings.warn(msg, FutureWarning)\n"
     ]
    },
    {
     "data": {
      "text/plain": [
       "<AxesSubplot:xlabel='GLD', ylabel='Density'>"
      ]
     },
     "execution_count": 11,
     "metadata": {},
     "output_type": "execute_result"
    },
    {
     "data": {
      "image/png": "[encoded data removed]",
      "text/plain": [
       "<Figure size 432x288 with 1 Axes>"
      ]
     },
     "metadata": {
      "needs_background": "light"
     },
     "output_type": "display_data"
    }
   ],
   "source": [
    "sns.distplot(gd[\"GLD\"])"
   ]
  },
  {
   "cell_type": "code",
   "execution_count": 12,
   "metadata": {},
   "outputs": [
    {
     "name": "stdout",
     "output_type": "stream",
     "text": [
      "              SPX        USO      SLV   EUR/USD\n",
      "0     1447.160034  78.470001  15.1800  1.471692\n",
      "1     1447.160034  78.370003  15.2850  1.474491\n",
      "2     1411.630005  77.309998  15.1670  1.475492\n",
      "3     1416.180054  75.500000  15.0530  1.468299\n",
      "4     1390.189941  76.059998  15.5900  1.557099\n",
      "...           ...        ...      ...       ...\n",
      "2285  2671.919922  14.060000  15.5100  1.186789\n",
      "2286  2697.790039  14.370000  15.5300  1.184722\n",
      "2287  2723.070068  14.410000  15.7400  1.191753\n",
      "2288  2730.129883  14.380000  15.5600  1.193118\n",
      "2289  2725.780029  14.405800  15.4542  1.182033\n",
      "\n",
      "[2290 rows x 4 columns]\n"
     ]
    }
   ],
   "source": [
    "features = gd.drop([\"Date\", \"GLD\"],axis=1)\n",
    "print(features)"
   ]
  },
  {
   "cell_type": "code",
   "execution_count": 13,
   "metadata": {},
   "outputs": [
    {
     "name": "stdout",
     "output_type": "stream",
     "text": [
      "0        84.860001\n",
      "1        85.570000\n",
      "2        85.129997\n",
      "3        84.769997\n",
      "4        86.779999\n",
      "           ...    \n",
      "2285    124.589996\n",
      "2286    124.330002\n",
      "2287    125.180000\n",
      "2288    124.489998\n",
      "2289    122.543800\n",
      "Name: GLD, Length: 2290, dtype: float64\n"
     ]
    }
   ],
   "source": [
    "gld_price=gd[\"GLD\"]\n",
    "print(gld_price)"
   ]
  },
  {
   "cell_type": "code",
   "execution_count": 14,
   "metadata": {},
   "outputs": [],
   "source": [
    "features_train, features_test, gld_price_train, gld_price_test = train_test_split(features, gld_price, test_size=0.2, random_state=1)                "
   ]
  },
  {
   "cell_type": "code",
   "execution_count": 15,
   "metadata": {},
   "outputs": [],
   "source": [
    "reg = RandomForestRegressor(n_estimators=100)"
   ]
  },
  {
   "cell_type": "code",
   "execution_count": 16,
   "metadata": {},
   "outputs": [
    {
     "data": {
      "text/plain": [
       "RandomForestRegressor()"
      ]
     },
     "execution_count": 16,
     "metadata": {},
     "output_type": "execute_result"
    }
   ],
   "source": [
    "reg.fit(features_train, gld_price_train)"
   ]
  },
  {
   "cell_type": "code",
   "execution_count": 17,
   "metadata": {},
   "outputs": [
    {
     "name": "stdout",
     "output_type": "stream",
     "text": [
      "[113.54289996 148.13720104 142.24659824 112.66520161 113.60599931\n",
      "  95.57579936 111.75259999  93.30399923 120.89030087 127.0308993\n",
      " 147.68109915 120.65559883 119.04850058  88.05610028  96.12119991\n",
      "  92.73409878 116.78720071  88.80229881 125.25150074 114.6765998\n",
      " 118.9059996  152.65540277 122.5998981  119.81009987 171.23399964\n",
      " 108.42019838 120.46470024  87.12819846  87.79920082  88.65989918\n",
      " 121.40210083 154.39080086 150.27189838 125.86220025 126.43839995\n",
      "  91.04839877 156.80149938 121.35500153 106.58250039 144.33629693\n",
      "  92.60940003 127.66660081 117.48270087 152.63500186 119.42259958\n",
      "  91.2921016   80.18799961 120.35430175 132.36290039 118.95569918\n",
      " 127.25990078 165.94399976 153.1603002   92.60979919 149.28370062\n",
      " 151.82009942 112.75750096 112.72260025  87.19669875 127.78519946\n",
      " 125.25500009 151.69220312 114.41829993 110.55359986 161.53669826\n",
      " 117.24209872 108.28890089 132.10789933 132.81940134 125.53040004\n",
      " 117.00390027 149.7620019  156.1009007  168.94989555 109.94630066\n",
      " 140.52039801 102.01419831 114.72870057 119.72690045 123.89049902\n",
      " 117.8222008   92.16760009 140.65070022 107.13570047 125.42249971\n",
      "  92.41179916 133.04220372 125.4419005  125.3635004  125.97719847\n",
      " 113.39080035 120.46489965 161.03610218  80.59849933 117.76880115\n",
      " 115.38860088 135.20160068 109.50269989 108.86049929 126.27000054\n",
      " 127.66640013 110.3353988  159.77329954 123.19600004 121.16430001\n",
      " 128.514898   147.34759787  92.45239832 124.56739912 119.12280004\n",
      " 108.86649913 135.26289999 120.90690077  98.06499716 115.67899991\n",
      " 109.97009833 126.09550025 113.83850089 107.39320063 174.09569948\n",
      "  96.6959025  126.68189815 112.23099834 112.22409975 124.64799963\n",
      " 167.86049835 114.20320044 135.17189691 125.70240005 163.51689939\n",
      " 120.36069958  88.92529978 128.16279917 127.8737008  114.79939985\n",
      " 122.8465987  125.96420039 166.22809785 112.43340089 120.02009965\n",
      " 126.25180106 126.67409992 167.74029853 160.31090014 171.16160382\n",
      " 121.66180079 121.74070065 162.9053007   99.012199    80.0057998\n",
      " 115.93190117 113.50800046 118.72420057 113.72100108 120.22180024\n",
      " 119.78780101 104.54719941 170.92450247 144.47819617 166.69509799\n",
      " 117.93400172 125.80420074 126.18389996 165.56920002 117.37670097\n",
      " 132.76840312 136.34690055 132.69180122 113.98050052 133.32380081\n",
      " 153.98270136 137.06039865  96.20220079 108.38020141 124.82930003\n",
      " 150.66220135  98.8040001  131.53850178 104.97819971 121.25449821\n",
      " 143.68560145 109.1891024  127.13839983 127.26209893 113.00300073\n",
      " 140.4143026  151.66920046 165.44559986 119.75599988 104.68730161\n",
      " 115.3024999  114.12220067 106.81429947 123.91850026 154.0149021\n",
      " 128.8345011  125.92080003 148.48609731 142.5420997   83.41719909\n",
      " 124.92989949 125.94160028 124.53080186 105.96970031 170.14140262\n",
      " 176.59559759  77.28550036 119.30440072  93.07290066 118.1360996\n",
      " 125.54520123 117.70020037 124.02370008 152.11379951 151.20030164\n",
      "  91.58810096 131.21079807 108.94149844 110.19699904 108.99869998\n",
      " 168.74799539 128.85539774 103.64909859 124.24229902 111.61369978\n",
      "  90.14749887 145.90969939 120.93719998 120.15460046 104.10619902\n",
      " 125.17870011  94.14740042 121.61740072 116.50109966 135.0987995\n",
      " 124.17427683 170.66630315  83.18349886 167.22729888 124.51940046\n",
      " 109.59480076 126.00679964 122.76909844  82.79699857 124.48689872\n",
      " 113.71620036  90.84009845 113.43530005 112.05650079 170.05160082\n",
      " 107.26429948  91.5382994  119.16949982 109.4399986   90.33300072\n",
      "  75.43140027 161.18540113 115.28190064 140.79220074  96.40830075\n",
      " 120.88629997 150.90110005 159.89050039 113.71730091 116.27540065\n",
      " 153.7038011  117.9450981  151.31680043 175.29799774  87.55970012\n",
      " 112.52059945 152.83780037 108.36909894 157.33300191 114.56250073\n",
      " 139.33389877 121.95539995 115.88119805 114.25080101  86.00019986\n",
      "  75.607898   132.43569946 120.80230047 118.83380061 111.46590036\n",
      " 153.88270043 153.18610014 122.9343997  140.36040196 152.57160232\n",
      " 106.97299992  91.93789931 122.16619994 154.75990048 161.76899905\n",
      " 156.55170293  90.2556997  135.84000398 152.44849979 108.61679902\n",
      " 152.93920106  85.20200014 116.77460086 119.76410017 128.04230357\n",
      " 151.65590212 117.2941999  127.80440067 114.55070111 103.47479894\n",
      " 114.41140019  95.66960093 167.77449851 150.4214015   87.29369772\n",
      " 128.03940088 110.92649843 164.6082025  121.68779917 107.8937997\n",
      " 103.1132001  115.27809993 111.89680087  75.50060035  91.34939851\n",
      " 122.3157991   87.77049843 112.28570026 171.89100149 165.22990138\n",
      "  90.74539895 140.15799857  89.77060149 118.33830064 109.00500167\n",
      " 125.40019918 118.21720102 124.20550003 107.28110129 131.28169931\n",
      " 114.50330023 159.99889965 108.21909924 116.53350023 151.02359932\n",
      " 147.12049997  94.42699973  91.16369861 125.05930028  88.02249876\n",
      " 114.21450068 114.86020067 166.43979833 121.16230053 106.58439922\n",
      " 160.46019876  77.36900005 124.46689919  75.3693003  123.9741999\n",
      " 158.88160186 130.9348021  161.38960109 120.26730012 105.71989969\n",
      " 155.51980324 125.95879929 156.39840088 140.03419879 131.70499958\n",
      " 132.89380349 114.28900045 114.0744992  126.62909936 129.32649941\n",
      " 162.2136001   89.85610081 169.07659898 111.34179961 118.73160131\n",
      " 135.3720015  121.70010226 163.64330052 120.53900152 114.38220062\n",
      " 141.10059922 131.49370073 114.25963803 119.83880017 125.25319901\n",
      " 124.88579902 107.2746006  104.09399921  71.99630174 159.65390192\n",
      " 151.7558005   86.09420067 156.21680123 153.44650345 121.68320122\n",
      " 114.32270108 121.53150013 162.42629772 131.36680129 118.4478997\n",
      " 158.32819984 163.35400303 124.21999945 127.05599908 125.69199959\n",
      " 120.00639932 151.36410042  87.29579884 102.93069937 132.14880168\n",
      " 162.81280151 131.14270099  88.74479987 161.01160135 115.92110005\n",
      "  97.35669814 127.24460049 139.93339985 122.22020018 119.23599928\n",
      " 111.2489003   78.04099941 121.39720088 102.6803986  160.94339856\n",
      " 117.42220016 126.1042008  125.99580012  93.85439976 133.12879767\n",
      " 156.77059932 103.06769973  93.4748997  127.01520073  93.11260162\n",
      " 113.35990045 126.16479895 122.4668991  108.0421984  119.02210125\n",
      " 148.02659927 148.6215023  134.29570108 168.25600191 101.28909912\n",
      " 117.92570083 127.48640074 115.12550159 115.48059934 101.39519783\n",
      " 129.79779893 164.75319914 119.1271026 ]\n"
     ]
    }
   ],
   "source": [
    "test_data_pred = reg.predict(features_test)\n",
    "print(test_data_pred)"
   ]
  },
  {
   "cell_type": "code",
   "execution_count": 18,
   "metadata": {},
   "outputs": [],
   "source": [
    "error_value = metrics.r2_score(gld_price_test, test_data_pred)"
   ]
  },
  {
   "cell_type": "code",
   "execution_count": 19,
   "metadata": {},
   "outputs": [
    {
     "name": "stdout",
     "output_type": "stream",
     "text": [
      "Error value on the basis of R squared error :  0.9881219665286479\n"
     ]
    }
   ],
   "source": [
    "print(\"Error value on the basis of R squared error : \", error_value)"
   ]
  }
 ],
 "metadata": {
  "kernelspec": {
   "display_name": "Python 3",
   "language": "python",
   "name": "python3"
  },
  "language_info": {
   "codemirror_mode": {
    "name": "ipython",
    "version": 3
   },
   "file_extension": ".py",
   "mimetype": "text/x-python",
   "name": "python",
   "nbconvert_exporter": "python",
   "pygments_lexer": "ipython3",
   "version": "3.8.5"
  }
 },
 "nbformat": 4,
 "nbformat_minor": 4
}
